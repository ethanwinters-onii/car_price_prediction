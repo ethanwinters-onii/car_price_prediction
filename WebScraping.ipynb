{
 "cells": [
  {
   "cell_type": "code",
   "execution_count": 1,
   "id": "6b3486f7-68f3-4d1e-8822-4c089a466062",
   "metadata": {},
   "outputs": [],
   "source": [
    "from bs4 import BeautifulSoup as bs\n",
    "import requests"
   ]
  },
  {
   "cell_type": "code",
   "execution_count": 2,
   "id": "4f79b6db-b245-45ae-ba00-5a7b569e95ce",
   "metadata": {},
   "outputs": [],
   "source": [
    "r = requests.get('https://www.bigmotoringworld.co.uk/used/cars/audi/q5/tdi-quattro-s-line-101671')\n",
    "soup = bs(r.content)\n",
    "contents = soup.prettify()"
   ]
  },
  {
   "cell_type": "code",
   "execution_count": 3,
   "id": "2feb136a-d4b6-4525-b532-255167138f34",
   "metadata": {
    "scrolled": true,
    "tags": []
   },
   "outputs": [
    {
     "name": "stdout",
     "output_type": "stream",
     "text": [
      "<div class=\"vehicle__technical-data-promoted-inner\">\n",
      " <ul>\n",
      "  <li>\n",
      "   <div class=\"technical-data technical-data--promoted\">\n",
      "    <div class=\"technical-data__icon\">\n",
      "     <i class=\"icon icon--technical-data icon--fuel_type_name__formatted\">\n",
      "     </i>\n",
      "    </div>\n",
      "    <div class=\"technical-data__label\">\n",
      "     Fuel Type\n",
      "    </div>\n",
      "    <div class=\"technical-data__value\">\n",
      "     Diesel\n",
      "    </div>\n",
      "   </div>\n",
      "  </li>\n",
      "  <li>\n",
      "   <div class=\"technical-data technical-data--promoted\">\n",
      "    <div class=\"technical-data__icon\">\n",
      "     <i class=\"icon icon--technical-data icon--engine_liters__formatted\">\n",
      "     </i>\n",
      "    </div>\n",
      "    <div class=\"technical-data__label\">\n",
      "     Engine Size\n",
      "    </div>\n",
      "    <div class=\"technical-data__value\">\n",
      "     2.0L\n",
      "    </div>\n",
      "   </div>\n",
      "  </li>\n",
      "  <li>\n",
      "   <div class=\"technical-data technical-data--promoted\">\n",
      "    <div class=\"technical-data__icon\">\n",
      "     <i class=\"icon icon--technical-data icon--transmission_name__formatted\">\n",
      "     </i>\n",
      "    </div>\n",
      "    <div class=\"technical-data__label\">\n",
      "     Transmission\n",
      "    </div>\n",
      "    <div class=\"technical-data__value\">\n",
      "     Automatic\n",
      "    </div>\n",
      "   </div>\n",
      "  </li>\n",
      "  <li>\n",
      "   <div class=\"technical-data technical-data--promoted\">\n",
      "    <div class=\"technical-data__icon\">\n",
      "     <i class=\"icon icon--technical-data icon--mileage__formatted\">\n",
      "     </i>\n",
      "    </div>\n",
      "    <div class=\"technical-data__label\">\n",
      "     Mileage\n",
      "    </div>\n",
      "    <div class=\"technical-data__value\">\n",
      "     44,578 miles\n",
      "    </div>\n",
      "   </div>\n",
      "  </li>\n",
      "  <li>\n",
      "   <div class=\"technical-data technical-data--promoted\">\n",
      "    <div class=\"technical-data__icon\">\n",
      "     <i class=\"icon icon--technical-data icon--doors__formatted\">\n",
      "     </i>\n",
      "    </div>\n",
      "    <div class=\"technical-data__label\">\n",
      "     Doors\n",
      "    </div>\n",
      "    <div class=\"technical-data__value\">\n",
      "     5\n",
      "    </div>\n",
      "   </div>\n",
      "  </li>\n",
      "  <li>\n",
      "   <div class=\"technical-data technical-data--promoted\">\n",
      "    <div class=\"technical-data__icon\">\n",
      "     <i class=\"icon icon--technical-data icon--bhp__formatted\">\n",
      "     </i>\n",
      "    </div>\n",
      "    <div class=\"technical-data__label\">\n",
      "     BHP\n",
      "    </div>\n",
      "    <div class=\"technical-data__value\">\n",
      "     188 bhp\n",
      "    </div>\n",
      "   </div>\n",
      "  </li>\n",
      "  <li>\n",
      "   <div class=\"technical-data technical-data--promoted\">\n",
      "    <div class=\"technical-data__icon\">\n",
      "     <i class=\"icon icon--technical-data icon--insurance_group__formatted\">\n",
      "     </i>\n",
      "    </div>\n",
      "    <div class=\"technical-data__label\">\n",
      "     Insurance Group\n",
      "    </div>\n",
      "    <div class=\"technical-data__value\">\n",
      "     29E\n",
      "    </div>\n",
      "   </div>\n",
      "  </li>\n",
      "  <li>\n",
      "   <div class=\"technical-data technical-data--promoted\">\n",
      "    <div class=\"technical-data__icon\">\n",
      "     <i class=\"icon icon--technical-data icon--registration_date__formatted\">\n",
      "     </i>\n",
      "    </div>\n",
      "    <div class=\"technical-data__label\">\n",
      "     Year\n",
      "    </div>\n",
      "    <div class=\"technical-data__value\">\n",
      "     2018 (18)\n",
      "    </div>\n",
      "   </div>\n",
      "  </li>\n",
      " </ul>\n",
      "</div>\n"
     ]
    }
   ],
   "source": [
    "vehicle_technical_data_promoted = soup.find(class_='vehicle__technical-data-promoted-inner')\n",
    "print(vehicle_technical_data_promoted.prettify())"
   ]
  },
  {
   "cell_type": "code",
   "execution_count": 4,
   "id": "97869edb-a499-4827-b02a-0f06761eb54c",
   "metadata": {
    "scrolled": true,
    "tags": []
   },
   "outputs": [
    {
     "name": "stdout",
     "output_type": "stream",
     "text": [
      "<li>\n",
      " <div class=\"technical-data technical-data--promoted\">\n",
      "  <div class=\"technical-data__icon\">\n",
      "   <i class=\"icon icon--technical-data icon--fuel_type_name__formatted\">\n",
      "   </i>\n",
      "  </div>\n",
      "  <div class=\"technical-data__label\">\n",
      "   Fuel Type\n",
      "  </div>\n",
      "  <div class=\"technical-data__value\">\n",
      "   Diesel\n",
      "  </div>\n",
      " </div>\n",
      "</li>\n",
      "\n",
      "<li>\n",
      " <div class=\"technical-data technical-data--promoted\">\n",
      "  <div class=\"technical-data__icon\">\n",
      "   <i class=\"icon icon--technical-data icon--engine_liters__formatted\">\n",
      "   </i>\n",
      "  </div>\n",
      "  <div class=\"technical-data__label\">\n",
      "   Engine Size\n",
      "  </div>\n",
      "  <div class=\"technical-data__value\">\n",
      "   2.0L\n",
      "  </div>\n",
      " </div>\n",
      "</li>\n",
      "\n",
      "<li>\n",
      " <div class=\"technical-data technical-data--promoted\">\n",
      "  <div class=\"technical-data__icon\">\n",
      "   <i class=\"icon icon--technical-data icon--transmission_name__formatted\">\n",
      "   </i>\n",
      "  </div>\n",
      "  <div class=\"technical-data__label\">\n",
      "   Transmission\n",
      "  </div>\n",
      "  <div class=\"technical-data__value\">\n",
      "   Automatic\n",
      "  </div>\n",
      " </div>\n",
      "</li>\n",
      "\n",
      "<li>\n",
      " <div class=\"technical-data technical-data--promoted\">\n",
      "  <div class=\"technical-data__icon\">\n",
      "   <i class=\"icon icon--technical-data icon--mileage__formatted\">\n",
      "   </i>\n",
      "  </div>\n",
      "  <div class=\"technical-data__label\">\n",
      "   Mileage\n",
      "  </div>\n",
      "  <div class=\"technical-data__value\">\n",
      "   44,578 miles\n",
      "  </div>\n",
      " </div>\n",
      "</li>\n",
      "\n",
      "<li>\n",
      " <div class=\"technical-data technical-data--promoted\">\n",
      "  <div class=\"technical-data__icon\">\n",
      "   <i class=\"icon icon--technical-data icon--doors__formatted\">\n",
      "   </i>\n",
      "  </div>\n",
      "  <div class=\"technical-data__label\">\n",
      "   Doors\n",
      "  </div>\n",
      "  <div class=\"technical-data__value\">\n",
      "   5\n",
      "  </div>\n",
      " </div>\n",
      "</li>\n",
      "\n",
      "<li>\n",
      " <div class=\"technical-data technical-data--promoted\">\n",
      "  <div class=\"technical-data__icon\">\n",
      "   <i class=\"icon icon--technical-data icon--bhp__formatted\">\n",
      "   </i>\n",
      "  </div>\n",
      "  <div class=\"technical-data__label\">\n",
      "   BHP\n",
      "  </div>\n",
      "  <div class=\"technical-data__value\">\n",
      "   188 bhp\n",
      "  </div>\n",
      " </div>\n",
      "</li>\n",
      "\n",
      "<li>\n",
      " <div class=\"technical-data technical-data--promoted\">\n",
      "  <div class=\"technical-data__icon\">\n",
      "   <i class=\"icon icon--technical-data icon--insurance_group__formatted\">\n",
      "   </i>\n",
      "  </div>\n",
      "  <div class=\"technical-data__label\">\n",
      "   Insurance Group\n",
      "  </div>\n",
      "  <div class=\"technical-data__value\">\n",
      "   29E\n",
      "  </div>\n",
      " </div>\n",
      "</li>\n",
      "\n",
      "<li>\n",
      " <div class=\"technical-data technical-data--promoted\">\n",
      "  <div class=\"technical-data__icon\">\n",
      "   <i class=\"icon icon--technical-data icon--registration_date__formatted\">\n",
      "   </i>\n",
      "  </div>\n",
      "  <div class=\"technical-data__label\">\n",
      "   Year\n",
      "  </div>\n",
      "  <div class=\"technical-data__value\">\n",
      "   2018 (18)\n",
      "  </div>\n",
      " </div>\n",
      "</li>\n"
     ]
    }
   ],
   "source": [
    "item_list =vehicle_technical_data_promoted.find_all(\"li\")\n",
    "for item in item_list:\n",
    "    print(item.prettify())"
   ]
  },
  {
   "cell_type": "code",
   "execution_count": 11,
   "id": "92c6349e-a363-4d79-b316-e4d9f32cb3a1",
   "metadata": {},
   "outputs": [
    {
     "data": {
      "text/plain": [
       "[<div class=\"technical-data technical-data--summary\"><div class=\"technical-data__label\">Body Type</div><div class=\"technical-data__value\">Estate</div></div>,\n",
       " <div class=\"technical-data technical-data--summary\"><div class=\"technical-data__label\">CO2</div><div class=\"technical-data__value\">133 g/km</div></div>,\n",
       " <div class=\"technical-data technical-data--summary\"><div class=\"technical-data__label\">Colour</div><div class=\"technical-data__value\">GREY</div></div>,\n",
       " <div class=\"technical-data technical-data--summary\"><div class=\"technical-data__label\">MOT Expires</div><div class=\"technical-data__value\">14-06-2022</div></div>,\n",
       " <div class=\"technical-data technical-data--summary\"><div class=\"technical-data__label\">MPG</div><div class=\"technical-data__value\">55.4</div></div>,\n",
       " <div class=\"technical-data technical-data--summary\"><div class=\"technical-data__label\">Previous Keepers</div><div class=\"technical-data__value\">1</div></div>,\n",
       " <div class=\"technical-data technical-data--summary technical-data--euro-status\"><div class=\"technical-data__label\">Ultra Low Emission Zone <i class=\"icon icon--check\"></i> <a data-open=\"ulez\"><i class=\"icon icon--info\"></i></a></div><div class=\"technical-data__value\">Euro 6</div></div>]"
      ]
     },
     "execution_count": 11,
     "metadata": {},
     "output_type": "execute_result"
    }
   ],
   "source": [
    "vehicle_summary = soup.find(class_='vehicle__technical-data-summary-inner')\n",
    "#print(vertical_summary.prettify())\n",
    "data_summary = vehicle_summary.select(\".technical-data.technical-data--summary\")\n",
    "data_summary"
   ]
  },
  {
   "cell_type": "code",
   "execution_count": 12,
   "id": "1dab9899-5128-4c45-b77d-0c5a5711ca56",
   "metadata": {},
   "outputs": [
    {
     "name": "stdout",
     "output_type": "stream",
     "text": [
      "{'Model': 'Q5', 'Fuel Type': 'Diesel', 'Engine Size': '2.0L', 'Transmission': 'Automatic', 'Mileage': '44,578 miles', 'Doors': '5', 'BHP': '188 bhp', 'Year': '2018 (18)', 'Body Type': 'Estate', 'CO2': '133 g/km', 'Colour': 'GREY', 'MOT Expires': '14-06-2022', 'MPG': '55.4', 'Previous Keepers': '1', 'Ultra Low Emission Zone  ': 'Euro 6', 'Tax': '£199', 'Price': '£29,500'}\n"
     ]
    }
   ],
   "source": [
    "car_info = {}\n",
    "\n",
    "vehicle_title = soup.find(class_='vehicle__title')\n",
    "name = vehicle_title.find('vehicle__make')\n",
    "model = vehicle_title.find(class_='vehicle__model').get_text()\n",
    "car_info['Model'] = model\n",
    "\n",
    "for li in item_list:\n",
    "    key = li.find(class_=\"technical-data__label\").get_text()\n",
    "    if key == 'Insurance Group':\n",
    "        continue\n",
    "    else:\n",
    "        value = li.find(class_=\"technical-data__value\").get_text()\n",
    "        car_info[key] = value\n",
    "\n",
    "for data in data_summary:\n",
    "    key = data.find(class_='technical-data__label').get_text()\n",
    "    value = data.find(class_='technical-data__value').get_text()\n",
    "    car_info[key] = value\n",
    "\n",
    "tax = soup.find(class_='admin-fee').get_text().split()[1]\n",
    "car_info['Tax'] = tax\n",
    "price = soup.find(class_='price-combined__value').get_text()\n",
    "car_info['Price'] = price\n",
    "\n",
    "print(car_info)"
   ]
  },
  {
   "cell_type": "code",
   "execution_count": 15,
   "id": "49be33cc-1565-400e-8aee-72728d63f77c",
   "metadata": {},
   "outputs": [
    {
     "name": "stdout",
     "output_type": "stream",
     "text": [
      "<h1 class=\"vehicle__title\">\n",
      " <span class=\"vehicle__registration-date\">\n",
      "  2018 (18)\n",
      " </span>\n",
      " <span class=\"vehicle__make\">\n",
      "  Audi\n",
      " </span>\n",
      " <span class=\"vehicle__model\">\n",
      "  Q5\n",
      " </span>\n",
      " <span class=\"vehicle__model-variant\">\n",
      "  TDI QUATTRO S LINE\n",
      " </span>\n",
      "</h1>\n",
      "\n"
     ]
    }
   ],
   "source": []
  },
  {
   "cell_type": "code",
   "execution_count": null,
   "id": "70f4a5af-5d88-4c5d-9215-338d72baeccf",
   "metadata": {},
   "outputs": [],
   "source": []
  },
  {
   "cell_type": "code",
   "execution_count": null,
   "id": "9662c4cd-fc06-439d-83cf-cacf6aaed5bf",
   "metadata": {},
   "outputs": [],
   "source": []
  },
  {
   "cell_type": "code",
   "execution_count": null,
   "id": "56c858bf-adf5-4b19-8035-3a12d934b635",
   "metadata": {},
   "outputs": [],
   "source": []
  },
  {
   "cell_type": "code",
   "execution_count": null,
   "id": "1aac0b22-cb49-4157-89f0-b8eac3d26529",
   "metadata": {},
   "outputs": [],
   "source": []
  },
  {
   "cell_type": "code",
   "execution_count": 13,
   "id": "349aae4e-3b20-400c-abff-333118fd2940",
   "metadata": {},
   "outputs": [],
   "source": [
    "def get_info_box(url):\n",
    "    r = requests.get(url)\n",
    "    soup = bs(r.content)\n",
    "    vehicle_technical_data_promoted = soup.find(class_='vehicle__technical-data-promoted-inner')\n",
    "    if len(vehicle_technical_data_promoted) == 0:\n",
    "        return {}\n",
    "    else:\n",
    "        item_list = vehicle_technical_data_promoted.find_all(\"li\")\n",
    "\n",
    "        car_info = {}\n",
    "\n",
    "        vehicle_title = soup.find(class_='vehicle__title')\n",
    "        name = vehicle_title.find('vehicle__make')\n",
    "        model = vehicle_title.find(class_='vehicle__model').get_text()\n",
    "        car_info['Model'] = model\n",
    "\n",
    "        for li in item_list:\n",
    "            key = li.find(class_=\"technical-data__label\").get_text()\n",
    "            if key == 'Insurance Group':\n",
    "                continue\n",
    "            else:\n",
    "                value = li.find(class_=\"technical-data__value\").get_text()\n",
    "                car_info[key] = value\n",
    "        \n",
    "        vehicle_summary = soup.find(class_='vehicle__technical-data-summary-inner')\n",
    "        data_summary = vehicle_summary.select(\".technical-data.technical-data--summary\")\n",
    "        if len(data_summary) != 0:\n",
    "            for data in data_summary:\n",
    "                key = data.find(class_='technical-data__label').get_text()\n",
    "                value = data.find(class_='technical-data__value').get_text()\n",
    "                car_info[key] = value\n",
    "\n",
    "        tax = soup.find(class_='admin-fee').get_text().split()[1]\n",
    "        car_info['Tax'] = tax\n",
    "        price = soup.find(class_='price-combined__value').get_text()\n",
    "        car_info['Price'] = price\n",
    "        return car_info"
   ]
  },
  {
   "cell_type": "code",
   "execution_count": 12,
   "id": "44287b6e-25ea-4a88-be26-e7398735904b",
   "metadata": {},
   "outputs": [],
   "source": [
    "def get_next_page_link(soup):\n",
    "    next_page = soup.select(\".next a\")\n",
    "    if len(next_page) == 0:\n",
    "        return ''\n",
    "    else:\n",
    "        return next_page[0]['href']"
   ]
  },
  {
   "cell_type": "code",
   "execution_count": 13,
   "id": "06d571e4-ef07-4eea-959a-6b5f50d9c357",
   "metadata": {},
   "outputs": [],
   "source": [
    "base_path = 'https://www.bigmotoringworld.co.uk'\n",
    "\n",
    "def get_car_info_list():\n",
    "    cars_info_list = []\n",
    "    link = 'https://www.bigmotoringworld.co.uk/used/cars/bmw/filters/perpage/60/'\n",
    "    r = requests.get(link)\n",
    "    soup = bs(r.content)\n",
    "    cars = soup.select(\".vehicle__primary-images-inner a\")\n",
    "    while(link != ''):\n",
    "        for index, car in enumerate(cars):\n",
    "            try:\n",
    "                rel_path = car['href']\n",
    "                full_path = base_path + rel_path\n",
    "                cars_info_list.append(get_info_box(full_path))\n",
    "            except Exception as e:\n",
    "                print(car.get_text())\n",
    "                print(e)\n",
    "        link = get_next_page_link(soup)\n",
    "        r = requests.get(base_path+link)\n",
    "        soup = bs(r.content)\n",
    "        cars = soup.select(\".vehicle__primary-images-inner a\")\n",
    "    return cars_info_list"
   ]
  },
  {
   "cell_type": "code",
   "execution_count": 14,
   "id": "9fbd6ed8-a317-4fdb-951e-f57425f9a425",
   "metadata": {},
   "outputs": [],
   "source": [
    "car_info_list = get_car_info_list()"
   ]
  },
  {
   "cell_type": "code",
   "execution_count": 17,
   "id": "9dd1d43a-1fc7-4d74-af5c-b082f2885487",
   "metadata": {},
   "outputs": [],
   "source": [
    "import json\n",
    "\n",
    "def save_json(title, data):\n",
    "    with open(title, \"w\", encoding='utf-8') as outfile:\n",
    "        json.dump(data, outfile, ensure_ascii=False, indent=2)"
   ]
  },
  {
   "cell_type": "code",
   "execution_count": 67,
   "id": "ec35861e-fe8f-4a8d-8b6e-7fd94bb67fbd",
   "metadata": {},
   "outputs": [],
   "source": [
    "def load_json(title):\n",
    "    with open(title, encoding='utf-8') as f:\n",
    "        return json.load(f)"
   ]
  },
  {
   "cell_type": "code",
   "execution_count": 18,
   "id": "48c98925-9c87-43ca-b026-f67a5c0b57c8",
   "metadata": {},
   "outputs": [],
   "source": [
    "save_json('bmw.json', car_info_list)"
   ]
  },
  {
   "cell_type": "code",
   "execution_count": 1,
   "id": "fd064d00-a25f-4559-b42c-f2929c8da17f",
   "metadata": {},
   "outputs": [],
   "source": [
    "d = {'1':2, '3':4}"
   ]
  },
  {
   "cell_type": "code",
   "execution_count": 15,
   "id": "ee8b56e2-9a5d-40d9-ac20-758ef2ad05a1",
   "metadata": {},
   "outputs": [
    {
     "data": {
      "text/plain": [
       "697"
      ]
     },
     "execution_count": 15,
     "metadata": {},
     "output_type": "execute_result"
    }
   ],
   "source": [
    "len(car_info_list)"
   ]
  },
  {
   "cell_type": "code",
   "execution_count": 4,
   "id": "bf0b2502-537c-4bbc-9760-755ee8b6a865",
   "metadata": {},
   "outputs": [],
   "source": [
    "import pandas as pd"
   ]
  },
  {
   "cell_type": "code",
   "execution_count": 20,
   "id": "a41fcde1-8664-45ed-9f87-846eeb1450bb",
   "metadata": {},
   "outputs": [],
   "source": [
    "json = pd.read_json('bmw.json')"
   ]
  },
  {
   "cell_type": "code",
   "execution_count": 21,
   "id": "ddc7ddf5-034f-4d6c-86a8-fb74842e8c31",
   "metadata": {},
   "outputs": [],
   "source": [
    "file = json.to_csv('bmw.csv')"
   ]
  },
  {
   "cell_type": "code",
   "execution_count": null,
   "id": "f31a47d4-dd9b-4250-9df8-4047303f9a0d",
   "metadata": {},
   "outputs": [],
   "source": [
    "    "
   ]
  },
  {
   "cell_type": "code",
   "execution_count": null,
   "id": "1c377a5e-0f26-48a6-8e02-a20e275895e0",
   "metadata": {},
   "outputs": [],
   "source": []
  }
 ],
 "metadata": {
  "kernelspec": {
   "display_name": "Python 3 (ipykernel)",
   "language": "python",
   "name": "python3"
  },
  "language_info": {
   "codemirror_mode": {
    "name": "ipython",
    "version": 3
   },
   "file_extension": ".py",
   "mimetype": "text/x-python",
   "name": "python",
   "nbconvert_exporter": "python",
   "pygments_lexer": "ipython3",
   "version": "3.8.8"
  }
 },
 "nbformat": 4,
 "nbformat_minor": 5
}
